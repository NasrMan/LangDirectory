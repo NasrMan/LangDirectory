{
 "cells": [
  {
   "cell_type": "markdown",
   "metadata": {},
   "source": []
  },
  {
   "cell_type": "markdown",
   "metadata": {},
   "source": [
    "# CS50 Python"
   ]
  },
  {
   "cell_type": "markdown",
   "metadata": {},
   "source": [
    "## printing in python"
   ]
  },
  {
   "cell_type": "markdown",
   "metadata": {},
   "source": [
    "use print function parameters"
   ]
  },
  {
   "cell_type": "code",
   "execution_count": null,
   "metadata": {},
   "outputs": [],
   "source": [
    "lname='nasr'\n",
    "print(\"hello \" , lname , sep=\">>>\")"
   ]
  },
  {
   "cell_type": "code",
   "execution_count": null,
   "metadata": {},
   "outputs": [],
   "source": [
    "print(\"hello \" + lname, sep=\">>>\")\n"
   ]
  },
  {
   "cell_type": "markdown",
   "metadata": {},
   "source": [
    "scape chars"
   ]
  },
  {
   "cell_type": "code",
   "execution_count": 7,
   "metadata": {},
   "outputs": [
    {
     "name": "stdout",
     "output_type": "stream",
     "text": [
      "\"hello\" \"fiend\"\n",
      "hello, \"fiend\"\n"
     ]
    }
   ],
   "source": [
    "print('\"hello\" \"fiend\"')\n",
    "print(\"hello, \\\"fiend\\\"\")"
   ]
  },
  {
   "cell_type": "markdown",
   "metadata": {},
   "source": []
  },
  {
   "cell_type": "markdown",
   "metadata": {},
   "source": [
    "String.strip\n",
    "Combine more tha a method in the same line"
   ]
  },
  {
   "cell_type": "code",
   "execution_count": 14,
   "metadata": {},
   "outputs": [
    {
     "name": "stdout",
     "output_type": "stream",
     "text": [
      "Hello Nasr Khalil\n",
      "Hello Nasr Khalil\n"
     ]
    }
   ],
   "source": [
    "yname= input(\"Please enter your name !\")\n",
    "print(\"Hello \"+ yname.strip().title()) # strip will trime all unnecessary chars\n",
    "print(\"Hello \"+ yname.strip().title().lstrip().rstrip())\n",
    "print(\"Hello \"+ yname.capitalize())\n",
    "print(\"Hello \"+ yname.title())"
   ]
  },
  {
   "cell_type": "code",
   "execution_count": null,
   "metadata": {},
   "outputs": [],
   "source": []
  }
 ],
 "metadata": {
  "kernelspec": {
   "display_name": "Python 3.9.12 ('base')",
   "language": "python",
   "name": "python3"
  },
  "language_info": {
   "codemirror_mode": {
    "name": "ipython",
    "version": 3
   },
   "file_extension": ".py",
   "mimetype": "text/x-python",
   "name": "python",
   "nbconvert_exporter": "python",
   "pygments_lexer": "ipython3",
   "version": "3.9.12"
  },
  "orig_nbformat": 4,
  "vscode": {
   "interpreter": {
    "hash": "5d9c8c76bfad01d96d0bc880e71508b4aaad7a2f31f647b78d84f6754fd05fe0"
   }
  }
 },
 "nbformat": 4,
 "nbformat_minor": 2
}
