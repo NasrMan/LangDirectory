{
 "cells": [
  {
   "cell_type": "code",
   "execution_count": 1,
   "metadata": {},
   "outputs": [
    {
     "name": "stdout",
     "output_type": "stream",
     "text": [
      "Hello Boss\n"
     ]
    }
   ],
   "source": [
    "print('Hello Boss')"
   ]
  },
  {
   "cell_type": "code",
   "execution_count": 2,
   "metadata": {},
   "outputs": [
    {
     "name": "stdout",
     "output_type": "stream",
     "text": [
      "B is greater\n"
     ]
    }
   ],
   "source": [
    "a=12\n",
    "b=23\n",
    "\n",
    "if a<b:\n",
    "    print(\"B is greater\")\n",
    "else:\n",
    "    print(\"a is bigger\")"
   ]
  }
 ],
 "metadata": {
  "kernelspec": {
   "display_name": "Python 3.9.12 ('base')",
   "language": "python",
   "name": "python3"
  },
  "language_info": {
   "codemirror_mode": {
    "name": "ipython",
    "version": 3
   },
   "file_extension": ".py",
   "mimetype": "text/x-python",
   "name": "python",
   "nbconvert_exporter": "python",
   "pygments_lexer": "ipython3",
   "version": "3.9.12"
  },
  "orig_nbformat": 4,
  "vscode": {
   "interpreter": {
    "hash": "5d9c8c76bfad01d96d0bc880e71508b4aaad7a2f31f647b78d84f6754fd05fe0"
   }
  }
 },
 "nbformat": 4,
 "nbformat_minor": 2
}
