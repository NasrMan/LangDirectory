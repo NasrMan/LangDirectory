{
 "cells": [
  {
   "cell_type": "code",
   "execution_count": 1,
   "metadata": {},
   "outputs": [
    {
     "name": "stdout",
     "output_type": "stream",
     "text": [
      "yes\n"
     ]
    }
   ],
   "source": [
    "x=True\n",
    "\n",
    "if x==True:\n",
    "    print('yes')"
   ]
  },
  {
   "cell_type": "markdown",
   "metadata": {},
   "source": [
    "# Comparison"
   ]
  },
  {
   "cell_type": "code",
   "execution_count": 11,
   "metadata": {},
   "outputs": [
    {
     "name": "stdout",
     "output_type": "stream",
     "text": [
      "x= True\n",
      "y= False\n",
      "is x greater than or equal y? True\n",
      "is x less than y or equa? False\n",
      "is x greater than y or equa? True\n",
      "is x less than y or equa? False\n"
     ]
    }
   ],
   "source": [
    "x = True\n",
    "y = False\n",
    "#  F sting format\n",
    "print(f\"x= {x}\")\n",
    "print(f\"y= {y}\")\n",
    "print(f\"is x greater than or equal y? {x>y}\")\n",
    "print(f\"is x less than y or equa? {x<y}\")\n",
    "print(f\"is x greater than y or equa? {x>=y}\")\n",
    "print(f\"is x less than y or equa? {x<=y}\")"
   ]
  },
  {
   "cell_type": "code",
   "execution_count": null,
   "metadata": {},
   "outputs": [],
   "source": [
    "import string\n",
    "x=12\n",
    "dir(x)"
   ]
  },
  {
   "cell_type": "code",
   "execution_count": null,
   "metadata": {},
   "outputs": [],
   "source": [
    "str = 'nasr'\n",
    "dir(str)\n"
   ]
  },
  {
   "cell_type": "markdown",
   "metadata": {},
   "source": [
    "# Complex Nums"
   ]
  },
  {
   "cell_type": "code",
   "execution_count": 21,
   "metadata": {},
   "outputs": [
    {
     "name": "stdout",
     "output_type": "stream",
     "text": [
      "(5+3j)\n",
      "5.0\n",
      "3.0\n"
     ]
    }
   ],
   "source": [
    "cVal=complex(5,3)\n",
    "print(cVal)\n",
    "print(cVal.real)\n",
    "print(cVal.imag)"
   ]
  },
  {
   "cell_type": "code",
   "execution_count": null,
   "metadata": {},
   "outputs": [],
   "source": [
    "str2= 'nasr'\n",
    "for x in str2:\n",
    "    # print numerical value\n",
    "    print(f'{x}= {ord(x)}')"
   ]
  },
  {
   "cell_type": "code",
   "execution_count": 27,
   "metadata": {},
   "outputs": [
    {
     "name": "stdout",
     "output_type": "stream",
     "text": [
      "nasr khalil\n",
      "knasrhnasranasrlnasrinasrl\n"
     ]
    }
   ],
   "source": [
    "fname='nasr'\n",
    "lname='khalil'\n",
    "print(fname+' '+lname)\n",
    "print(fname.join(lname))\n"
   ]
  },
  {
   "cell_type": "markdown",
   "metadata": {},
   "source": [
    "# Escape char"
   ]
  },
  {
   "cell_type": "code",
   "execution_count": 46,
   "metadata": {},
   "outputs": [
    {
     "name": "stdout",
     "output_type": "stream",
     "text": [
      "nasr's\n",
      "km\t\n",
      " nowo\n",
      " from\t nasr\n",
      "\n",
      "Hello\t world\n"
     ]
    }
   ],
   "source": [
    "n='nasr\\'s'\n",
    "k= 'km\\t'\n",
    "g= 'hello\\r now\\n from\\t nasr\\n'\n",
    "hw=\"Hello\\t world\"\n",
    "\n",
    "print(n)\n",
    "print(k)\n",
    "print(g)\n",
    "print(hw)\n"
   ]
  },
  {
   "cell_type": "markdown",
   "metadata": {},
   "source": [
    "# unicode"
   ]
  },
  {
   "cell_type": "code",
   "execution_count": 42,
   "metadata": {},
   "outputs": [
    {
     "name": "stdout",
     "output_type": "stream",
     "text": [
      "K\n",
      "d\n"
     ]
    }
   ],
   "source": [
    "st2 = chr(75)\n",
    "s3 = chr(10)\n",
    "print(st2)\n",
    "print(s2)"
   ]
  },
  {
   "cell_type": "markdown",
   "metadata": {},
   "source": [
    "# Strings"
   ]
  },
  {
   "cell_type": "code",
   "execution_count": null,
   "metadata": {},
   "outputs": [],
   "source": []
  }
 ],
 "metadata": {
  "kernelspec": {
   "display_name": "Python 3.10.7 64-bit",
   "language": "python",
   "name": "python3"
  },
  "language_info": {
   "codemirror_mode": {
    "name": "ipython",
    "version": 3
   },
   "file_extension": ".py",
   "mimetype": "text/x-python",
   "name": "python",
   "nbconvert_exporter": "python",
   "pygments_lexer": "ipython3",
   "version": "3.10.7"
  },
  "orig_nbformat": 4,
  "vscode": {
   "interpreter": {
    "hash": "369f2c481f4da34e4445cda3fffd2e751bd1c4d706f27375911949ba6bb62e1c"
   }
  }
 },
 "nbformat": 4,
 "nbformat_minor": 2
}
